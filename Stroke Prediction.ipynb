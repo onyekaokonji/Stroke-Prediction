{
 "cells": [
  {
   "cell_type": "markdown",
   "id": "1a0e6715",
   "metadata": {},
   "source": [
    "### Importing libraries"
   ]
  },
  {
   "cell_type": "code",
   "execution_count": 1,
   "id": "038dbafc",
   "metadata": {},
   "outputs": [],
   "source": [
    "import pandas as pd\n",
    "import numpy as np\n",
    "import matplotlib.pyplot as plt\n",
    "import seaborn as sns\n",
    "from sklearn.linear_model import LogisticRegression\n",
    "from sklearn.svm import LinearSVC\n",
    "from sklearn.svm import SVC\n",
    "from sklearn.tree import DecisionTreeClassifier\n",
    "from sklearn.tree import ExtraTreeClassifier\n",
    "from sklearn.ensemble import RandomForestClassifier\n",
    "from sklearn.model_selection import train_test_split, StratifiedKFold\n",
    "from sklearn.preprocessing import StandardScaler"
   ]
  },
  {
   "cell_type": "code",
   "execution_count": 2,
   "id": "fcabb542",
   "metadata": {},
   "outputs": [
    {
     "data": {
      "text/html": [
       "<div>\n",
       "<style scoped>\n",
       "    .dataframe tbody tr th:only-of-type {\n",
       "        vertical-align: middle;\n",
       "    }\n",
       "\n",
       "    .dataframe tbody tr th {\n",
       "        vertical-align: top;\n",
       "    }\n",
       "\n",
       "    .dataframe thead th {\n",
       "        text-align: right;\n",
       "    }\n",
       "</style>\n",
       "<table border=\"1\" class=\"dataframe\">\n",
       "  <thead>\n",
       "    <tr style=\"text-align: right;\">\n",
       "      <th></th>\n",
       "      <th>id</th>\n",
       "      <th>gender</th>\n",
       "      <th>age</th>\n",
       "      <th>hypertension</th>\n",
       "      <th>heart_disease</th>\n",
       "      <th>ever_married</th>\n",
       "      <th>work_type</th>\n",
       "      <th>Residence_type</th>\n",
       "      <th>avg_glucose_level</th>\n",
       "      <th>bmi</th>\n",
       "      <th>smoking_status</th>\n",
       "      <th>stroke</th>\n",
       "    </tr>\n",
       "  </thead>\n",
       "  <tbody>\n",
       "    <tr>\n",
       "      <th>0</th>\n",
       "      <td>9046</td>\n",
       "      <td>Male</td>\n",
       "      <td>67.0</td>\n",
       "      <td>0</td>\n",
       "      <td>1</td>\n",
       "      <td>Yes</td>\n",
       "      <td>Private</td>\n",
       "      <td>Urban</td>\n",
       "      <td>228.69</td>\n",
       "      <td>36.6</td>\n",
       "      <td>formerly smoked</td>\n",
       "      <td>1</td>\n",
       "    </tr>\n",
       "    <tr>\n",
       "      <th>1</th>\n",
       "      <td>51676</td>\n",
       "      <td>Female</td>\n",
       "      <td>61.0</td>\n",
       "      <td>0</td>\n",
       "      <td>0</td>\n",
       "      <td>Yes</td>\n",
       "      <td>Self-employed</td>\n",
       "      <td>Rural</td>\n",
       "      <td>202.21</td>\n",
       "      <td>NaN</td>\n",
       "      <td>never smoked</td>\n",
       "      <td>1</td>\n",
       "    </tr>\n",
       "    <tr>\n",
       "      <th>2</th>\n",
       "      <td>31112</td>\n",
       "      <td>Male</td>\n",
       "      <td>80.0</td>\n",
       "      <td>0</td>\n",
       "      <td>1</td>\n",
       "      <td>Yes</td>\n",
       "      <td>Private</td>\n",
       "      <td>Rural</td>\n",
       "      <td>105.92</td>\n",
       "      <td>32.5</td>\n",
       "      <td>never smoked</td>\n",
       "      <td>1</td>\n",
       "    </tr>\n",
       "    <tr>\n",
       "      <th>3</th>\n",
       "      <td>60182</td>\n",
       "      <td>Female</td>\n",
       "      <td>49.0</td>\n",
       "      <td>0</td>\n",
       "      <td>0</td>\n",
       "      <td>Yes</td>\n",
       "      <td>Private</td>\n",
       "      <td>Urban</td>\n",
       "      <td>171.23</td>\n",
       "      <td>34.4</td>\n",
       "      <td>smokes</td>\n",
       "      <td>1</td>\n",
       "    </tr>\n",
       "    <tr>\n",
       "      <th>4</th>\n",
       "      <td>1665</td>\n",
       "      <td>Female</td>\n",
       "      <td>79.0</td>\n",
       "      <td>1</td>\n",
       "      <td>0</td>\n",
       "      <td>Yes</td>\n",
       "      <td>Self-employed</td>\n",
       "      <td>Rural</td>\n",
       "      <td>174.12</td>\n",
       "      <td>24.0</td>\n",
       "      <td>never smoked</td>\n",
       "      <td>1</td>\n",
       "    </tr>\n",
       "  </tbody>\n",
       "</table>\n",
       "</div>"
      ],
      "text/plain": [
       "      id  gender   age  hypertension  heart_disease ever_married  \\\n",
       "0   9046    Male  67.0             0              1          Yes   \n",
       "1  51676  Female  61.0             0              0          Yes   \n",
       "2  31112    Male  80.0             0              1          Yes   \n",
       "3  60182  Female  49.0             0              0          Yes   \n",
       "4   1665  Female  79.0             1              0          Yes   \n",
       "\n",
       "       work_type Residence_type  avg_glucose_level   bmi   smoking_status  \\\n",
       "0        Private          Urban             228.69  36.6  formerly smoked   \n",
       "1  Self-employed          Rural             202.21   NaN     never smoked   \n",
       "2        Private          Rural             105.92  32.5     never smoked   \n",
       "3        Private          Urban             171.23  34.4           smokes   \n",
       "4  Self-employed          Rural             174.12  24.0     never smoked   \n",
       "\n",
       "   stroke  \n",
       "0       1  \n",
       "1       1  \n",
       "2       1  \n",
       "3       1  \n",
       "4       1  "
      ]
     },
     "execution_count": 2,
     "metadata": {},
     "output_type": "execute_result"
    }
   ],
   "source": [
    "stroke_data = pd.read_csv('healthcare-dataset-stroke-data.csv')\n",
    "stroke_data.head(5)"
   ]
  },
  {
   "cell_type": "code",
   "execution_count": 3,
   "id": "9fecb9dc",
   "metadata": {},
   "outputs": [
    {
     "name": "stdout",
     "output_type": "stream",
     "text": [
      "(5110, 12)\n"
     ]
    }
   ],
   "source": [
    "# Dataframe size\n",
    "print(stroke_data.shape)"
   ]
  },
  {
   "cell_type": "markdown",
   "id": "062e9c01",
   "metadata": {},
   "source": [
    "### Exploratory Data Analysis"
   ]
  },
  {
   "cell_type": "code",
   "execution_count": 4,
   "id": "07a0b55c",
   "metadata": {},
   "outputs": [
    {
     "data": {
      "text/html": [
       "<div>\n",
       "<style scoped>\n",
       "    .dataframe tbody tr th:only-of-type {\n",
       "        vertical-align: middle;\n",
       "    }\n",
       "\n",
       "    .dataframe tbody tr th {\n",
       "        vertical-align: top;\n",
       "    }\n",
       "\n",
       "    .dataframe thead th {\n",
       "        text-align: right;\n",
       "    }\n",
       "</style>\n",
       "<table border=\"1\" class=\"dataframe\">\n",
       "  <thead>\n",
       "    <tr style=\"text-align: right;\">\n",
       "      <th></th>\n",
       "      <th>id</th>\n",
       "      <th>age</th>\n",
       "      <th>hypertension</th>\n",
       "      <th>heart_disease</th>\n",
       "      <th>avg_glucose_level</th>\n",
       "      <th>bmi</th>\n",
       "      <th>stroke</th>\n",
       "    </tr>\n",
       "  </thead>\n",
       "  <tbody>\n",
       "    <tr>\n",
       "      <th>count</th>\n",
       "      <td>5110.000000</td>\n",
       "      <td>5110.000000</td>\n",
       "      <td>5110.000000</td>\n",
       "      <td>5110.000000</td>\n",
       "      <td>5110.000000</td>\n",
       "      <td>4909.000000</td>\n",
       "      <td>5110.000000</td>\n",
       "    </tr>\n",
       "    <tr>\n",
       "      <th>mean</th>\n",
       "      <td>36517.829354</td>\n",
       "      <td>43.226614</td>\n",
       "      <td>0.097456</td>\n",
       "      <td>0.054012</td>\n",
       "      <td>106.147677</td>\n",
       "      <td>28.893237</td>\n",
       "      <td>0.048728</td>\n",
       "    </tr>\n",
       "    <tr>\n",
       "      <th>std</th>\n",
       "      <td>21161.721625</td>\n",
       "      <td>22.612647</td>\n",
       "      <td>0.296607</td>\n",
       "      <td>0.226063</td>\n",
       "      <td>45.283560</td>\n",
       "      <td>7.854067</td>\n",
       "      <td>0.215320</td>\n",
       "    </tr>\n",
       "    <tr>\n",
       "      <th>min</th>\n",
       "      <td>67.000000</td>\n",
       "      <td>0.080000</td>\n",
       "      <td>0.000000</td>\n",
       "      <td>0.000000</td>\n",
       "      <td>55.120000</td>\n",
       "      <td>10.300000</td>\n",
       "      <td>0.000000</td>\n",
       "    </tr>\n",
       "    <tr>\n",
       "      <th>25%</th>\n",
       "      <td>17741.250000</td>\n",
       "      <td>25.000000</td>\n",
       "      <td>0.000000</td>\n",
       "      <td>0.000000</td>\n",
       "      <td>77.245000</td>\n",
       "      <td>23.500000</td>\n",
       "      <td>0.000000</td>\n",
       "    </tr>\n",
       "    <tr>\n",
       "      <th>50%</th>\n",
       "      <td>36932.000000</td>\n",
       "      <td>45.000000</td>\n",
       "      <td>0.000000</td>\n",
       "      <td>0.000000</td>\n",
       "      <td>91.885000</td>\n",
       "      <td>28.100000</td>\n",
       "      <td>0.000000</td>\n",
       "    </tr>\n",
       "    <tr>\n",
       "      <th>75%</th>\n",
       "      <td>54682.000000</td>\n",
       "      <td>61.000000</td>\n",
       "      <td>0.000000</td>\n",
       "      <td>0.000000</td>\n",
       "      <td>114.090000</td>\n",
       "      <td>33.100000</td>\n",
       "      <td>0.000000</td>\n",
       "    </tr>\n",
       "    <tr>\n",
       "      <th>max</th>\n",
       "      <td>72940.000000</td>\n",
       "      <td>82.000000</td>\n",
       "      <td>1.000000</td>\n",
       "      <td>1.000000</td>\n",
       "      <td>271.740000</td>\n",
       "      <td>97.600000</td>\n",
       "      <td>1.000000</td>\n",
       "    </tr>\n",
       "  </tbody>\n",
       "</table>\n",
       "</div>"
      ],
      "text/plain": [
       "                 id          age  hypertension  heart_disease  \\\n",
       "count   5110.000000  5110.000000   5110.000000    5110.000000   \n",
       "mean   36517.829354    43.226614      0.097456       0.054012   \n",
       "std    21161.721625    22.612647      0.296607       0.226063   \n",
       "min       67.000000     0.080000      0.000000       0.000000   \n",
       "25%    17741.250000    25.000000      0.000000       0.000000   \n",
       "50%    36932.000000    45.000000      0.000000       0.000000   \n",
       "75%    54682.000000    61.000000      0.000000       0.000000   \n",
       "max    72940.000000    82.000000      1.000000       1.000000   \n",
       "\n",
       "       avg_glucose_level          bmi       stroke  \n",
       "count        5110.000000  4909.000000  5110.000000  \n",
       "mean          106.147677    28.893237     0.048728  \n",
       "std            45.283560     7.854067     0.215320  \n",
       "min            55.120000    10.300000     0.000000  \n",
       "25%            77.245000    23.500000     0.000000  \n",
       "50%            91.885000    28.100000     0.000000  \n",
       "75%           114.090000    33.100000     0.000000  \n",
       "max           271.740000    97.600000     1.000000  "
      ]
     },
     "execution_count": 4,
     "metadata": {},
     "output_type": "execute_result"
    }
   ],
   "source": [
    "stroke_data.describe()"
   ]
  },
  {
   "cell_type": "code",
   "execution_count": 5,
   "id": "445388c7",
   "metadata": {},
   "outputs": [
    {
     "name": "stdout",
     "output_type": "stream",
     "text": [
      "                         id       age  hypertension  heart_disease  \\\n",
      "id                 1.000000  0.003538      0.003550      -0.001296   \n",
      "age                0.003538  1.000000      0.276398       0.263796   \n",
      "hypertension       0.003550  0.276398      1.000000       0.108306   \n",
      "heart_disease     -0.001296  0.263796      0.108306       1.000000   \n",
      "avg_glucose_level  0.001092  0.238171      0.174474       0.161857   \n",
      "bmi                0.003084  0.333398      0.167811       0.041357   \n",
      "stroke             0.006388  0.245257      0.127904       0.134914   \n",
      "\n",
      "                   avg_glucose_level       bmi    stroke  \n",
      "id                          0.001092  0.003084  0.006388  \n",
      "age                         0.238171  0.333398  0.245257  \n",
      "hypertension                0.174474  0.167811  0.127904  \n",
      "heart_disease               0.161857  0.041357  0.134914  \n",
      "avg_glucose_level           1.000000  0.175502  0.131945  \n",
      "bmi                         0.175502  1.000000  0.042374  \n",
      "stroke                      0.131945  0.042374  1.000000  \n"
     ]
    }
   ],
   "source": [
    "correlation_matrix = stroke_data.corr()\n",
    "print(correlation_matrix)"
   ]
  },
  {
   "cell_type": "code",
   "execution_count": 6,
   "id": "970c7565",
   "metadata": {},
   "outputs": [
    {
     "data": {
      "text/plain": [
       "stroke               1.000000\n",
       "age                  0.245257\n",
       "heart_disease        0.134914\n",
       "avg_glucose_level    0.131945\n",
       "hypertension         0.127904\n",
       "bmi                  0.042374\n",
       "id                   0.006388\n",
       "Name: stroke, dtype: float64"
      ]
     },
     "execution_count": 6,
     "metadata": {},
     "output_type": "execute_result"
    }
   ],
   "source": [
    "correlation_matrix['stroke'].sort_values(ascending = False)"
   ]
  },
  {
   "cell_type": "code",
   "execution_count": 7,
   "id": "61e32fe7",
   "metadata": {},
   "outputs": [
    {
     "data": {
      "image/png": "[encoded data removed]",
      "text/plain": [
       "<Figure size 864x576 with 2 Axes>"
      ]
     },
     "metadata": {
      "needs_background": "light"
     },
     "output_type": "display_data"
    }
   ],
   "source": [
    "plt.figure(figsize=(12,8))\n",
    "sns.heatmap(data = stroke_data.corr(), annot = True)\n",
    "plt.show()"
   ]
  },
  {
   "cell_type": "code",
   "execution_count": 8,
   "id": "fa33c5b8",
   "metadata": {},
   "outputs": [
    {
     "name": "stdout",
     "output_type": "stream",
     "text": [
      "Female    2994\n",
      "Male      2115\n",
      "Other        1\n",
      "Name: gender, dtype: int64\n"
     ]
    }
   ],
   "source": [
    "# Gender distribution\n",
    "print(stroke_data['gender'].value_counts())"
   ]
  },
  {
   "cell_type": "code",
   "execution_count": 9,
   "id": "d1d22698",
   "metadata": {},
   "outputs": [
    {
     "name": "stdout",
     "output_type": "stream",
     "text": [
      "0    4861\n",
      "1     249\n",
      "Name: stroke, dtype: int64\n"
     ]
    }
   ],
   "source": [
    "# Target distribution\n",
    "print(stroke_data['stroke'].value_counts())"
   ]
  },
  {
   "cell_type": "code",
   "execution_count": 10,
   "id": "9823f008",
   "metadata": {},
   "outputs": [
    {
     "name": "stderr",
     "output_type": "stream",
     "text": [
      "/Users/onyekachukwuokonji/opt/anaconda3/lib/python3.9/site-packages/seaborn/_decorators.py:36: FutureWarning: Pass the following variable as a keyword arg: x. From version 0.12, the only valid positional argument will be `data`, and passing other arguments without an explicit keyword will result in an error or misinterpretation.\n",
      "  warnings.warn(\n"
     ]
    },
    {
     "data": {
      "image/png": "[encoded data removed]",
      "text/plain": [
       "<Figure size 864x576 with 1 Axes>"
      ]
     },
     "metadata": {
      "needs_background": "light"
     },
     "output_type": "display_data"
    }
   ],
   "source": [
    "plt.figure(figsize = (12, 8))\n",
    "sns.countplot(stroke_data['stroke'])\n",
    "plt.show()"
   ]
  },
  {
   "cell_type": "code",
   "execution_count": 11,
   "id": "349e6408",
   "metadata": {},
   "outputs": [
    {
     "data": {
      "text/html": [
       "<div>\n",
       "<style scoped>\n",
       "    .dataframe tbody tr th:only-of-type {\n",
       "        vertical-align: middle;\n",
       "    }\n",
       "\n",
       "    .dataframe tbody tr th {\n",
       "        vertical-align: top;\n",
       "    }\n",
       "\n",
       "    .dataframe thead th {\n",
       "        text-align: right;\n",
       "    }\n",
       "</style>\n",
       "<table border=\"1\" class=\"dataframe\">\n",
       "  <thead>\n",
       "    <tr style=\"text-align: right;\">\n",
       "      <th></th>\n",
       "      <th>id</th>\n",
       "      <th>gender</th>\n",
       "      <th>age</th>\n",
       "      <th>hypertension</th>\n",
       "      <th>heart_disease</th>\n",
       "      <th>ever_married</th>\n",
       "      <th>work_type</th>\n",
       "      <th>Residence_type</th>\n",
       "      <th>avg_glucose_level</th>\n",
       "      <th>bmi</th>\n",
       "      <th>smoking_status</th>\n",
       "      <th>stroke</th>\n",
       "    </tr>\n",
       "  </thead>\n",
       "  <tbody>\n",
       "    <tr>\n",
       "      <th>3116</th>\n",
       "      <td>56156</td>\n",
       "      <td>Other</td>\n",
       "      <td>26.0</td>\n",
       "      <td>0</td>\n",
       "      <td>0</td>\n",
       "      <td>No</td>\n",
       "      <td>Private</td>\n",
       "      <td>Rural</td>\n",
       "      <td>143.33</td>\n",
       "      <td>22.4</td>\n",
       "      <td>formerly smoked</td>\n",
       "      <td>0</td>\n",
       "    </tr>\n",
       "  </tbody>\n",
       "</table>\n",
       "</div>"
      ],
      "text/plain": [
       "         id gender   age  hypertension  heart_disease ever_married work_type  \\\n",
       "3116  56156  Other  26.0             0              0           No   Private   \n",
       "\n",
       "     Residence_type  avg_glucose_level   bmi   smoking_status  stroke  \n",
       "3116          Rural             143.33  22.4  formerly smoked       0  "
      ]
     },
     "execution_count": 11,
     "metadata": {},
     "output_type": "execute_result"
    }
   ],
   "source": [
    "# Dropping instance with 'other' gender since irrelevant to prediction\n",
    "stroke_data[stroke_data['gender'] == 'Other']"
   ]
  },
  {
   "cell_type": "markdown",
   "id": "c9b84229",
   "metadata": {},
   "source": [
    "### Feature Extraction"
   ]
  },
  {
   "cell_type": "code",
   "execution_count": 12,
   "id": "e0e144f6",
   "metadata": {},
   "outputs": [],
   "source": [
    "stroke_data.drop([3116], inplace = True)\n",
    "stroke_data.drop(['id'], axis = 1, inplace = True)"
   ]
  },
  {
   "cell_type": "code",
   "execution_count": 13,
   "id": "32be6d73",
   "metadata": {},
   "outputs": [
    {
     "data": {
      "text/html": [
       "<div>\n",
       "<style scoped>\n",
       "    .dataframe tbody tr th:only-of-type {\n",
       "        vertical-align: middle;\n",
       "    }\n",
       "\n",
       "    .dataframe tbody tr th {\n",
       "        vertical-align: top;\n",
       "    }\n",
       "\n",
       "    .dataframe thead th {\n",
       "        text-align: right;\n",
       "    }\n",
       "</style>\n",
       "<table border=\"1\" class=\"dataframe\">\n",
       "  <thead>\n",
       "    <tr style=\"text-align: right;\">\n",
       "      <th></th>\n",
       "      <th>gender</th>\n",
       "      <th>age</th>\n",
       "      <th>hypertension</th>\n",
       "      <th>heart_disease</th>\n",
       "      <th>ever_married</th>\n",
       "      <th>work_type</th>\n",
       "      <th>Residence_type</th>\n",
       "      <th>avg_glucose_level</th>\n",
       "      <th>bmi</th>\n",
       "      <th>smoking_status</th>\n",
       "      <th>stroke</th>\n",
       "    </tr>\n",
       "  </thead>\n",
       "  <tbody>\n",
       "    <tr>\n",
       "      <th>0</th>\n",
       "      <td>Male</td>\n",
       "      <td>67.0</td>\n",
       "      <td>0</td>\n",
       "      <td>1</td>\n",
       "      <td>Yes</td>\n",
       "      <td>Private</td>\n",
       "      <td>Urban</td>\n",
       "      <td>228.69</td>\n",
       "      <td>36.6</td>\n",
       "      <td>formerly smoked</td>\n",
       "      <td>1</td>\n",
       "    </tr>\n",
       "    <tr>\n",
       "      <th>1</th>\n",
       "      <td>Female</td>\n",
       "      <td>61.0</td>\n",
       "      <td>0</td>\n",
       "      <td>0</td>\n",
       "      <td>Yes</td>\n",
       "      <td>Self-employed</td>\n",
       "      <td>Rural</td>\n",
       "      <td>202.21</td>\n",
       "      <td>NaN</td>\n",
       "      <td>never smoked</td>\n",
       "      <td>1</td>\n",
       "    </tr>\n",
       "    <tr>\n",
       "      <th>2</th>\n",
       "      <td>Male</td>\n",
       "      <td>80.0</td>\n",
       "      <td>0</td>\n",
       "      <td>1</td>\n",
       "      <td>Yes</td>\n",
       "      <td>Private</td>\n",
       "      <td>Rural</td>\n",
       "      <td>105.92</td>\n",
       "      <td>32.5</td>\n",
       "      <td>never smoked</td>\n",
       "      <td>1</td>\n",
       "    </tr>\n",
       "    <tr>\n",
       "      <th>3</th>\n",
       "      <td>Female</td>\n",
       "      <td>49.0</td>\n",
       "      <td>0</td>\n",
       "      <td>0</td>\n",
       "      <td>Yes</td>\n",
       "      <td>Private</td>\n",
       "      <td>Urban</td>\n",
       "      <td>171.23</td>\n",
       "      <td>34.4</td>\n",
       "      <td>smokes</td>\n",
       "      <td>1</td>\n",
       "    </tr>\n",
       "    <tr>\n",
       "      <th>4</th>\n",
       "      <td>Female</td>\n",
       "      <td>79.0</td>\n",
       "      <td>1</td>\n",
       "      <td>0</td>\n",
       "      <td>Yes</td>\n",
       "      <td>Self-employed</td>\n",
       "      <td>Rural</td>\n",
       "      <td>174.12</td>\n",
       "      <td>24.0</td>\n",
       "      <td>never smoked</td>\n",
       "      <td>1</td>\n",
       "    </tr>\n",
       "  </tbody>\n",
       "</table>\n",
       "</div>"
      ],
      "text/plain": [
       "   gender   age  hypertension  heart_disease ever_married      work_type  \\\n",
       "0    Male  67.0             0              1          Yes        Private   \n",
       "1  Female  61.0             0              0          Yes  Self-employed   \n",
       "2    Male  80.0             0              1          Yes        Private   \n",
       "3  Female  49.0             0              0          Yes        Private   \n",
       "4  Female  79.0             1              0          Yes  Self-employed   \n",
       "\n",
       "  Residence_type  avg_glucose_level   bmi   smoking_status  stroke  \n",
       "0          Urban             228.69  36.6  formerly smoked       1  \n",
       "1          Rural             202.21   NaN     never smoked       1  \n",
       "2          Rural             105.92  32.5     never smoked       1  \n",
       "3          Urban             171.23  34.4           smokes       1  \n",
       "4          Rural             174.12  24.0     never smoked       1  "
      ]
     },
     "execution_count": 13,
     "metadata": {},
     "output_type": "execute_result"
    }
   ],
   "source": [
    "stroke_data.head(5)"
   ]
  },
  {
   "cell_type": "code",
   "execution_count": 14,
   "id": "8fbd1dfe",
   "metadata": {},
   "outputs": [
    {
     "name": "stdout",
     "output_type": "stream",
     "text": [
      "Female    2994\n",
      "Male      2115\n",
      "Name: gender, dtype: int64\n"
     ]
    }
   ],
   "source": [
    "# Confirming dropping operation\n",
    "print(stroke_data['gender'].value_counts())"
   ]
  },
  {
   "cell_type": "code",
   "execution_count": 15,
   "id": "4fcab7be",
   "metadata": {},
   "outputs": [
    {
     "data": {
      "text/plain": [
       "<seaborn.axisgrid.FacetGrid at 0x7fb1f45bfc40>"
      ]
     },
     "execution_count": 15,
     "metadata": {},
     "output_type": "execute_result"
    },
    {
     "data": {
      "image/png": "[encoded data removed]",
      "text/plain": [
       "<Figure size 360x360 with 1 Axes>"
      ]
     },
     "metadata": {
      "needs_background": "light"
     },
     "output_type": "display_data"
    }
   ],
   "source": [
    "# Plot distribution of ages\n",
    "sns.displot(data = stroke_data, x = 'age', kind = 'kde')"
   ]
  },
  {
   "cell_type": "code",
   "execution_count": 16,
   "id": "1f40c958",
   "metadata": {},
   "outputs": [
    {
     "data": {
      "text/plain": [
       "hypertension\n",
       "0    183\n",
       "1     66\n",
       "Name: stroke, dtype: int64"
      ]
     },
     "execution_count": 16,
     "metadata": {},
     "output_type": "execute_result"
    }
   ],
   "source": [
    "# Grouping patients with hypertension who developed a stroke\n",
    "stroke_data.groupby(['hypertension'])['stroke'].sum()"
   ]
  },
  {
   "cell_type": "code",
   "execution_count": 17,
   "id": "378c370e",
   "metadata": {},
   "outputs": [
    {
     "data": {
      "text/plain": [
       "heart_disease\n",
       "0    202\n",
       "1     47\n",
       "Name: stroke, dtype: int64"
      ]
     },
     "execution_count": 17,
     "metadata": {},
     "output_type": "execute_result"
    }
   ],
   "source": [
    "# Grouping patients with heart disease who developed a stroke\n",
    "stroke_data.groupby(['heart_disease'])['stroke'].sum()"
   ]
  },
  {
   "cell_type": "code",
   "execution_count": 18,
   "id": "7604773e",
   "metadata": {},
   "outputs": [
    {
     "data": {
      "text/plain": [
       "Residence_type\n",
       "Rural    114\n",
       "Urban    135\n",
       "Name: stroke, dtype: int64"
      ]
     },
     "execution_count": 18,
     "metadata": {},
     "output_type": "execute_result"
    }
   ],
   "source": [
    "# Grouping stroke sufferers based on residential area\n",
    "stroke_data.groupby(['Residence_type'])['stroke'].sum()"
   ]
  },
  {
   "cell_type": "code",
   "execution_count": 19,
   "id": "8e618686",
   "metadata": {},
   "outputs": [
    {
     "data": {
      "text/plain": [
       "hypertension  heart_disease  smoking_status \n",
       "0             0              Unknown            35\n",
       "                             formerly smoked    43\n",
       "                             never smoked       50\n",
       "                             smokes             21\n",
       "              1              Unknown             8\n",
       "                             formerly smoked     8\n",
       "                             never smoked        8\n",
       "                             smokes             10\n",
       "1             0              Unknown             4\n",
       "                             formerly smoked    15\n",
       "                             never smoked       28\n",
       "                             smokes              6\n",
       "              1              Unknown             0\n",
       "                             formerly smoked     4\n",
       "                             never smoked        4\n",
       "                             smokes              5\n",
       "Name: stroke, dtype: int64"
      ]
     },
     "execution_count": 19,
     "metadata": {},
     "output_type": "execute_result"
    }
   ],
   "source": [
    "# Grouping people who smoked, had hypertension and heart disease and suffered a stroke\n",
    "stroke_data.groupby(['hypertension', 'heart_disease', 'smoking_status'])['stroke'].sum()"
   ]
  },
  {
   "cell_type": "code",
   "execution_count": 20,
   "id": "d212ef19",
   "metadata": {},
   "outputs": [
    {
     "data": {
      "text/plain": [
       "gender                object\n",
       "age                  float64\n",
       "hypertension           int64\n",
       "heart_disease          int64\n",
       "ever_married          object\n",
       "work_type             object\n",
       "Residence_type        object\n",
       "avg_glucose_level    float64\n",
       "bmi                  float64\n",
       "smoking_status        object\n",
       "stroke                 int64\n",
       "dtype: object"
      ]
     },
     "execution_count": 20,
     "metadata": {},
     "output_type": "execute_result"
    }
   ],
   "source": [
    "# Obtaining data types\n",
    "stroke_data.dtypes"
   ]
  },
  {
   "cell_type": "code",
   "execution_count": 21,
   "id": "af2f34fe",
   "metadata": {},
   "outputs": [
    {
     "name": "stdout",
     "output_type": "stream",
     "text": [
      "Different kinds of gender feature is: ['Male' 'Female']\n",
      "Different kinds of ever married feature is: ['Yes' 'No']\n",
      "Different kinds of worktype feature is: ['Private' 'Self-employed' 'Govt_job' 'children' 'Never_worked']\n",
      "Different kinds of Residence_type feature is: ['Urban' 'Rural']\n",
      "Different kinds of smoking_status feature is: ['formerly smoked' 'never smoked' 'smokes' 'Unknown']\n"
     ]
    }
   ],
   "source": [
    "print(f\"Different kinds of gender feature is: {stroke_data['gender'].unique()}\")\n",
    "print(f\"Different kinds of ever married feature is: {stroke_data['ever_married'].unique()}\")\n",
    "print(f\"Different kinds of worktype feature is: {stroke_data['work_type'].unique()}\")\n",
    "print(f\"Different kinds of Residence_type feature is: {stroke_data['Residence_type'].unique()}\")\n",
    "print(f\"Different kinds of smoking_status feature is: {stroke_data['smoking_status'].unique()}\")"
   ]
  },
  {
   "cell_type": "code",
   "execution_count": 22,
   "id": "9cc4cdf9",
   "metadata": {},
   "outputs": [],
   "source": [
    "# Encoding Categorical Columns\n",
    "categorical_columns = ['gender', 'ever_married', 'work_type', 'Residence_type', 'smoking_status']\n",
    "stroke_data = pd.get_dummies(data = stroke_data, columns = categorical_columns)"
   ]
  },
  {
   "cell_type": "code",
   "execution_count": 23,
   "id": "9064758d",
   "metadata": {},
   "outputs": [
    {
     "data": {
      "text/html": [
       "<div>\n",
       "<style scoped>\n",
       "    .dataframe tbody tr th:only-of-type {\n",
       "        vertical-align: middle;\n",
       "    }\n",
       "\n",
       "    .dataframe tbody tr th {\n",
       "        vertical-align: top;\n",
       "    }\n",
       "\n",
       "    .dataframe thead th {\n",
       "        text-align: right;\n",
       "    }\n",
       "</style>\n",
       "<table border=\"1\" class=\"dataframe\">\n",
       "  <thead>\n",
       "    <tr style=\"text-align: right;\">\n",
       "      <th></th>\n",
       "      <th>age</th>\n",
       "      <th>hypertension</th>\n",
       "      <th>heart_disease</th>\n",
       "      <th>avg_glucose_level</th>\n",
       "      <th>bmi</th>\n",
       "      <th>stroke</th>\n",
       "      <th>gender_Female</th>\n",
       "      <th>gender_Male</th>\n",
       "      <th>ever_married_No</th>\n",
       "      <th>ever_married_Yes</th>\n",
       "      <th>...</th>\n",
       "      <th>work_type_Never_worked</th>\n",
       "      <th>work_type_Private</th>\n",
       "      <th>work_type_Self-employed</th>\n",
       "      <th>work_type_children</th>\n",
       "      <th>Residence_type_Rural</th>\n",
       "      <th>Residence_type_Urban</th>\n",
       "      <th>smoking_status_Unknown</th>\n",
       "      <th>smoking_status_formerly smoked</th>\n",
       "      <th>smoking_status_never smoked</th>\n",
       "      <th>smoking_status_smokes</th>\n",
       "    </tr>\n",
       "  </thead>\n",
       "  <tbody>\n",
       "    <tr>\n",
       "      <th>0</th>\n",
       "      <td>67.0</td>\n",
       "      <td>0</td>\n",
       "      <td>1</td>\n",
       "      <td>228.69</td>\n",
       "      <td>36.6</td>\n",
       "      <td>1</td>\n",
       "      <td>0</td>\n",
       "      <td>1</td>\n",
       "      <td>0</td>\n",
       "      <td>1</td>\n",
       "      <td>...</td>\n",
       "      <td>0</td>\n",
       "      <td>1</td>\n",
       "      <td>0</td>\n",
       "      <td>0</td>\n",
       "      <td>0</td>\n",
       "      <td>1</td>\n",
       "      <td>0</td>\n",
       "      <td>1</td>\n",
       "      <td>0</td>\n",
       "      <td>0</td>\n",
       "    </tr>\n",
       "    <tr>\n",
       "      <th>1</th>\n",
       "      <td>61.0</td>\n",
       "      <td>0</td>\n",
       "      <td>0</td>\n",
       "      <td>202.21</td>\n",
       "      <td>NaN</td>\n",
       "      <td>1</td>\n",
       "      <td>1</td>\n",
       "      <td>0</td>\n",
       "      <td>0</td>\n",
       "      <td>1</td>\n",
       "      <td>...</td>\n",
       "      <td>0</td>\n",
       "      <td>0</td>\n",
       "      <td>1</td>\n",
       "      <td>0</td>\n",
       "      <td>1</td>\n",
       "      <td>0</td>\n",
       "      <td>0</td>\n",
       "      <td>0</td>\n",
       "      <td>1</td>\n",
       "      <td>0</td>\n",
       "    </tr>\n",
       "    <tr>\n",
       "      <th>2</th>\n",
       "      <td>80.0</td>\n",
       "      <td>0</td>\n",
       "      <td>1</td>\n",
       "      <td>105.92</td>\n",
       "      <td>32.5</td>\n",
       "      <td>1</td>\n",
       "      <td>0</td>\n",
       "      <td>1</td>\n",
       "      <td>0</td>\n",
       "      <td>1</td>\n",
       "      <td>...</td>\n",
       "      <td>0</td>\n",
       "      <td>1</td>\n",
       "      <td>0</td>\n",
       "      <td>0</td>\n",
       "      <td>1</td>\n",
       "      <td>0</td>\n",
       "      <td>0</td>\n",
       "      <td>0</td>\n",
       "      <td>1</td>\n",
       "      <td>0</td>\n",
       "    </tr>\n",
       "    <tr>\n",
       "      <th>3</th>\n",
       "      <td>49.0</td>\n",
       "      <td>0</td>\n",
       "      <td>0</td>\n",
       "      <td>171.23</td>\n",
       "      <td>34.4</td>\n",
       "      <td>1</td>\n",
       "      <td>1</td>\n",
       "      <td>0</td>\n",
       "      <td>0</td>\n",
       "      <td>1</td>\n",
       "      <td>...</td>\n",
       "      <td>0</td>\n",
       "      <td>1</td>\n",
       "      <td>0</td>\n",
       "      <td>0</td>\n",
       "      <td>0</td>\n",
       "      <td>1</td>\n",
       "      <td>0</td>\n",
       "      <td>0</td>\n",
       "      <td>0</td>\n",
       "      <td>1</td>\n",
       "    </tr>\n",
       "    <tr>\n",
       "      <th>4</th>\n",
       "      <td>79.0</td>\n",
       "      <td>1</td>\n",
       "      <td>0</td>\n",
       "      <td>174.12</td>\n",
       "      <td>24.0</td>\n",
       "      <td>1</td>\n",
       "      <td>1</td>\n",
       "      <td>0</td>\n",
       "      <td>0</td>\n",
       "      <td>1</td>\n",
       "      <td>...</td>\n",
       "      <td>0</td>\n",
       "      <td>0</td>\n",
       "      <td>1</td>\n",
       "      <td>0</td>\n",
       "      <td>1</td>\n",
       "      <td>0</td>\n",
       "      <td>0</td>\n",
       "      <td>0</td>\n",
       "      <td>1</td>\n",
       "      <td>0</td>\n",
       "    </tr>\n",
       "    <tr>\n",
       "      <th>5</th>\n",
       "      <td>81.0</td>\n",
       "      <td>0</td>\n",
       "      <td>0</td>\n",
       "      <td>186.21</td>\n",
       "      <td>29.0</td>\n",
       "      <td>1</td>\n",
       "      <td>0</td>\n",
       "      <td>1</td>\n",
       "      <td>0</td>\n",
       "      <td>1</td>\n",
       "      <td>...</td>\n",
       "      <td>0</td>\n",
       "      <td>1</td>\n",
       "      <td>0</td>\n",
       "      <td>0</td>\n",
       "      <td>0</td>\n",
       "      <td>1</td>\n",
       "      <td>0</td>\n",
       "      <td>1</td>\n",
       "      <td>0</td>\n",
       "      <td>0</td>\n",
       "    </tr>\n",
       "    <tr>\n",
       "      <th>6</th>\n",
       "      <td>74.0</td>\n",
       "      <td>1</td>\n",
       "      <td>1</td>\n",
       "      <td>70.09</td>\n",
       "      <td>27.4</td>\n",
       "      <td>1</td>\n",
       "      <td>0</td>\n",
       "      <td>1</td>\n",
       "      <td>0</td>\n",
       "      <td>1</td>\n",
       "      <td>...</td>\n",
       "      <td>0</td>\n",
       "      <td>1</td>\n",
       "      <td>0</td>\n",
       "      <td>0</td>\n",
       "      <td>1</td>\n",
       "      <td>0</td>\n",
       "      <td>0</td>\n",
       "      <td>0</td>\n",
       "      <td>1</td>\n",
       "      <td>0</td>\n",
       "    </tr>\n",
       "    <tr>\n",
       "      <th>7</th>\n",
       "      <td>69.0</td>\n",
       "      <td>0</td>\n",
       "      <td>0</td>\n",
       "      <td>94.39</td>\n",
       "      <td>22.8</td>\n",
       "      <td>1</td>\n",
       "      <td>1</td>\n",
       "      <td>0</td>\n",
       "      <td>1</td>\n",
       "      <td>0</td>\n",
       "      <td>...</td>\n",
       "      <td>0</td>\n",
       "      <td>1</td>\n",
       "      <td>0</td>\n",
       "      <td>0</td>\n",
       "      <td>0</td>\n",
       "      <td>1</td>\n",
       "      <td>0</td>\n",
       "      <td>0</td>\n",
       "      <td>1</td>\n",
       "      <td>0</td>\n",
       "    </tr>\n",
       "    <tr>\n",
       "      <th>8</th>\n",
       "      <td>59.0</td>\n",
       "      <td>0</td>\n",
       "      <td>0</td>\n",
       "      <td>76.15</td>\n",
       "      <td>NaN</td>\n",
       "      <td>1</td>\n",
       "      <td>1</td>\n",
       "      <td>0</td>\n",
       "      <td>0</td>\n",
       "      <td>1</td>\n",
       "      <td>...</td>\n",
       "      <td>0</td>\n",
       "      <td>1</td>\n",
       "      <td>0</td>\n",
       "      <td>0</td>\n",
       "      <td>1</td>\n",
       "      <td>0</td>\n",
       "      <td>1</td>\n",
       "      <td>0</td>\n",
       "      <td>0</td>\n",
       "      <td>0</td>\n",
       "    </tr>\n",
       "    <tr>\n",
       "      <th>9</th>\n",
       "      <td>78.0</td>\n",
       "      <td>0</td>\n",
       "      <td>0</td>\n",
       "      <td>58.57</td>\n",
       "      <td>24.2</td>\n",
       "      <td>1</td>\n",
       "      <td>1</td>\n",
       "      <td>0</td>\n",
       "      <td>0</td>\n",
       "      <td>1</td>\n",
       "      <td>...</td>\n",
       "      <td>0</td>\n",
       "      <td>1</td>\n",
       "      <td>0</td>\n",
       "      <td>0</td>\n",
       "      <td>0</td>\n",
       "      <td>1</td>\n",
       "      <td>1</td>\n",
       "      <td>0</td>\n",
       "      <td>0</td>\n",
       "      <td>0</td>\n",
       "    </tr>\n",
       "    <tr>\n",
       "      <th>10</th>\n",
       "      <td>81.0</td>\n",
       "      <td>1</td>\n",
       "      <td>0</td>\n",
       "      <td>80.43</td>\n",
       "      <td>29.7</td>\n",
       "      <td>1</td>\n",
       "      <td>1</td>\n",
       "      <td>0</td>\n",
       "      <td>0</td>\n",
       "      <td>1</td>\n",
       "      <td>...</td>\n",
       "      <td>0</td>\n",
       "      <td>1</td>\n",
       "      <td>0</td>\n",
       "      <td>0</td>\n",
       "      <td>1</td>\n",
       "      <td>0</td>\n",
       "      <td>0</td>\n",
       "      <td>0</td>\n",
       "      <td>1</td>\n",
       "      <td>0</td>\n",
       "    </tr>\n",
       "    <tr>\n",
       "      <th>11</th>\n",
       "      <td>61.0</td>\n",
       "      <td>0</td>\n",
       "      <td>1</td>\n",
       "      <td>120.46</td>\n",
       "      <td>36.8</td>\n",
       "      <td>1</td>\n",
       "      <td>1</td>\n",
       "      <td>0</td>\n",
       "      <td>0</td>\n",
       "      <td>1</td>\n",
       "      <td>...</td>\n",
       "      <td>0</td>\n",
       "      <td>0</td>\n",
       "      <td>0</td>\n",
       "      <td>0</td>\n",
       "      <td>1</td>\n",
       "      <td>0</td>\n",
       "      <td>0</td>\n",
       "      <td>0</td>\n",
       "      <td>0</td>\n",
       "      <td>1</td>\n",
       "    </tr>\n",
       "    <tr>\n",
       "      <th>12</th>\n",
       "      <td>54.0</td>\n",
       "      <td>0</td>\n",
       "      <td>0</td>\n",
       "      <td>104.51</td>\n",
       "      <td>27.3</td>\n",
       "      <td>1</td>\n",
       "      <td>1</td>\n",
       "      <td>0</td>\n",
       "      <td>0</td>\n",
       "      <td>1</td>\n",
       "      <td>...</td>\n",
       "      <td>0</td>\n",
       "      <td>1</td>\n",
       "      <td>0</td>\n",
       "      <td>0</td>\n",
       "      <td>0</td>\n",
       "      <td>1</td>\n",
       "      <td>0</td>\n",
       "      <td>0</td>\n",
       "      <td>0</td>\n",
       "      <td>1</td>\n",
       "    </tr>\n",
       "    <tr>\n",
       "      <th>13</th>\n",
       "      <td>78.0</td>\n",
       "      <td>0</td>\n",
       "      <td>1</td>\n",
       "      <td>219.84</td>\n",
       "      <td>NaN</td>\n",
       "      <td>1</td>\n",
       "      <td>0</td>\n",
       "      <td>1</td>\n",
       "      <td>0</td>\n",
       "      <td>1</td>\n",
       "      <td>...</td>\n",
       "      <td>0</td>\n",
       "      <td>1</td>\n",
       "      <td>0</td>\n",
       "      <td>0</td>\n",
       "      <td>0</td>\n",
       "      <td>1</td>\n",
       "      <td>1</td>\n",
       "      <td>0</td>\n",
       "      <td>0</td>\n",
       "      <td>0</td>\n",
       "    </tr>\n",
       "    <tr>\n",
       "      <th>14</th>\n",
       "      <td>79.0</td>\n",
       "      <td>0</td>\n",
       "      <td>1</td>\n",
       "      <td>214.09</td>\n",
       "      <td>28.2</td>\n",
       "      <td>1</td>\n",
       "      <td>1</td>\n",
       "      <td>0</td>\n",
       "      <td>0</td>\n",
       "      <td>1</td>\n",
       "      <td>...</td>\n",
       "      <td>0</td>\n",
       "      <td>1</td>\n",
       "      <td>0</td>\n",
       "      <td>0</td>\n",
       "      <td>0</td>\n",
       "      <td>1</td>\n",
       "      <td>0</td>\n",
       "      <td>0</td>\n",
       "      <td>1</td>\n",
       "      <td>0</td>\n",
       "    </tr>\n",
       "    <tr>\n",
       "      <th>15</th>\n",
       "      <td>50.0</td>\n",
       "      <td>1</td>\n",
       "      <td>0</td>\n",
       "      <td>167.41</td>\n",
       "      <td>30.9</td>\n",
       "      <td>1</td>\n",
       "      <td>1</td>\n",
       "      <td>0</td>\n",
       "      <td>0</td>\n",
       "      <td>1</td>\n",
       "      <td>...</td>\n",
       "      <td>0</td>\n",
       "      <td>0</td>\n",
       "      <td>1</td>\n",
       "      <td>0</td>\n",
       "      <td>1</td>\n",
       "      <td>0</td>\n",
       "      <td>0</td>\n",
       "      <td>0</td>\n",
       "      <td>1</td>\n",
       "      <td>0</td>\n",
       "    </tr>\n",
       "    <tr>\n",
       "      <th>16</th>\n",
       "      <td>64.0</td>\n",
       "      <td>0</td>\n",
       "      <td>1</td>\n",
       "      <td>191.61</td>\n",
       "      <td>37.5</td>\n",
       "      <td>1</td>\n",
       "      <td>0</td>\n",
       "      <td>1</td>\n",
       "      <td>0</td>\n",
       "      <td>1</td>\n",
       "      <td>...</td>\n",
       "      <td>0</td>\n",
       "      <td>1</td>\n",
       "      <td>0</td>\n",
       "      <td>0</td>\n",
       "      <td>0</td>\n",
       "      <td>1</td>\n",
       "      <td>0</td>\n",
       "      <td>0</td>\n",
       "      <td>0</td>\n",
       "      <td>1</td>\n",
       "    </tr>\n",
       "    <tr>\n",
       "      <th>17</th>\n",
       "      <td>75.0</td>\n",
       "      <td>1</td>\n",
       "      <td>0</td>\n",
       "      <td>221.29</td>\n",
       "      <td>25.8</td>\n",
       "      <td>1</td>\n",
       "      <td>0</td>\n",
       "      <td>1</td>\n",
       "      <td>0</td>\n",
       "      <td>1</td>\n",
       "      <td>...</td>\n",
       "      <td>0</td>\n",
       "      <td>1</td>\n",
       "      <td>0</td>\n",
       "      <td>0</td>\n",
       "      <td>0</td>\n",
       "      <td>1</td>\n",
       "      <td>0</td>\n",
       "      <td>0</td>\n",
       "      <td>0</td>\n",
       "      <td>1</td>\n",
       "    </tr>\n",
       "    <tr>\n",
       "      <th>18</th>\n",
       "      <td>60.0</td>\n",
       "      <td>0</td>\n",
       "      <td>0</td>\n",
       "      <td>89.22</td>\n",
       "      <td>37.8</td>\n",
       "      <td>1</td>\n",
       "      <td>1</td>\n",
       "      <td>0</td>\n",
       "      <td>1</td>\n",
       "      <td>0</td>\n",
       "      <td>...</td>\n",
       "      <td>0</td>\n",
       "      <td>1</td>\n",
       "      <td>0</td>\n",
       "      <td>0</td>\n",
       "      <td>0</td>\n",
       "      <td>1</td>\n",
       "      <td>0</td>\n",
       "      <td>0</td>\n",
       "      <td>1</td>\n",
       "      <td>0</td>\n",
       "    </tr>\n",
       "    <tr>\n",
       "      <th>19</th>\n",
       "      <td>57.0</td>\n",
       "      <td>0</td>\n",
       "      <td>1</td>\n",
       "      <td>217.08</td>\n",
       "      <td>NaN</td>\n",
       "      <td>1</td>\n",
       "      <td>0</td>\n",
       "      <td>1</td>\n",
       "      <td>1</td>\n",
       "      <td>0</td>\n",
       "      <td>...</td>\n",
       "      <td>0</td>\n",
       "      <td>0</td>\n",
       "      <td>0</td>\n",
       "      <td>0</td>\n",
       "      <td>0</td>\n",
       "      <td>1</td>\n",
       "      <td>1</td>\n",
       "      <td>0</td>\n",
       "      <td>0</td>\n",
       "      <td>0</td>\n",
       "    </tr>\n",
       "  </tbody>\n",
       "</table>\n",
       "<p>20 rows × 21 columns</p>\n",
       "</div>"
      ],
      "text/plain": [
       "     age  hypertension  heart_disease  avg_glucose_level   bmi  stroke  \\\n",
       "0   67.0             0              1             228.69  36.6       1   \n",
       "1   61.0             0              0             202.21   NaN       1   \n",
       "2   80.0             0              1             105.92  32.5       1   \n",
       "3   49.0             0              0             171.23  34.4       1   \n",
       "4   79.0             1              0             174.12  24.0       1   \n",
       "5   81.0             0              0             186.21  29.0       1   \n",
       "6   74.0             1              1              70.09  27.4       1   \n",
       "7   69.0             0              0              94.39  22.8       1   \n",
       "8   59.0             0              0              76.15   NaN       1   \n",
       "9   78.0             0              0              58.57  24.2       1   \n",
       "10  81.0             1              0              80.43  29.7       1   \n",
       "11  61.0             0              1             120.46  36.8       1   \n",
       "12  54.0             0              0             104.51  27.3       1   \n",
       "13  78.0             0              1             219.84   NaN       1   \n",
       "14  79.0             0              1             214.09  28.2       1   \n",
       "15  50.0             1              0             167.41  30.9       1   \n",
       "16  64.0             0              1             191.61  37.5       1   \n",
       "17  75.0             1              0             221.29  25.8       1   \n",
       "18  60.0             0              0              89.22  37.8       1   \n",
       "19  57.0             0              1             217.08   NaN       1   \n",
       "\n",
       "    gender_Female  gender_Male  ever_married_No  ever_married_Yes  ...  \\\n",
       "0               0            1                0                 1  ...   \n",
       "1               1            0                0                 1  ...   \n",
       "2               0            1                0                 1  ...   \n",
       "3               1            0                0                 1  ...   \n",
       "4               1            0                0                 1  ...   \n",
       "5               0            1                0                 1  ...   \n",
       "6               0            1                0                 1  ...   \n",
       "7               1            0                1                 0  ...   \n",
       "8               1            0                0                 1  ...   \n",
       "9               1            0                0                 1  ...   \n",
       "10              1            0                0                 1  ...   \n",
       "11              1            0                0                 1  ...   \n",
       "12              1            0                0                 1  ...   \n",
       "13              0            1                0                 1  ...   \n",
       "14              1            0                0                 1  ...   \n",
       "15              1            0                0                 1  ...   \n",
       "16              0            1                0                 1  ...   \n",
       "17              0            1                0                 1  ...   \n",
       "18              1            0                1                 0  ...   \n",
       "19              0            1                1                 0  ...   \n",
       "\n",
       "    work_type_Never_worked  work_type_Private  work_type_Self-employed  \\\n",
       "0                        0                  1                        0   \n",
       "1                        0                  0                        1   \n",
       "2                        0                  1                        0   \n",
       "3                        0                  1                        0   \n",
       "4                        0                  0                        1   \n",
       "5                        0                  1                        0   \n",
       "6                        0                  1                        0   \n",
       "7                        0                  1                        0   \n",
       "8                        0                  1                        0   \n",
       "9                        0                  1                        0   \n",
       "10                       0                  1                        0   \n",
       "11                       0                  0                        0   \n",
       "12                       0                  1                        0   \n",
       "13                       0                  1                        0   \n",
       "14                       0                  1                        0   \n",
       "15                       0                  0                        1   \n",
       "16                       0                  1                        0   \n",
       "17                       0                  1                        0   \n",
       "18                       0                  1                        0   \n",
       "19                       0                  0                        0   \n",
       "\n",
       "    work_type_children  Residence_type_Rural  Residence_type_Urban  \\\n",
       "0                    0                     0                     1   \n",
       "1                    0                     1                     0   \n",
       "2                    0                     1                     0   \n",
       "3                    0                     0                     1   \n",
       "4                    0                     1                     0   \n",
       "5                    0                     0                     1   \n",
       "6                    0                     1                     0   \n",
       "7                    0                     0                     1   \n",
       "8                    0                     1                     0   \n",
       "9                    0                     0                     1   \n",
       "10                   0                     1                     0   \n",
       "11                   0                     1                     0   \n",
       "12                   0                     0                     1   \n",
       "13                   0                     0                     1   \n",
       "14                   0                     0                     1   \n",
       "15                   0                     1                     0   \n",
       "16                   0                     0                     1   \n",
       "17                   0                     0                     1   \n",
       "18                   0                     0                     1   \n",
       "19                   0                     0                     1   \n",
       "\n",
       "    smoking_status_Unknown  smoking_status_formerly smoked  \\\n",
       "0                        0                               1   \n",
       "1                        0                               0   \n",
       "2                        0                               0   \n",
       "3                        0                               0   \n",
       "4                        0                               0   \n",
       "5                        0                               1   \n",
       "6                        0                               0   \n",
       "7                        0                               0   \n",
       "8                        1                               0   \n",
       "9                        1                               0   \n",
       "10                       0                               0   \n",
       "11                       0                               0   \n",
       "12                       0                               0   \n",
       "13                       1                               0   \n",
       "14                       0                               0   \n",
       "15                       0                               0   \n",
       "16                       0                               0   \n",
       "17                       0                               0   \n",
       "18                       0                               0   \n",
       "19                       1                               0   \n",
       "\n",
       "    smoking_status_never smoked  smoking_status_smokes  \n",
       "0                             0                      0  \n",
       "1                             1                      0  \n",
       "2                             1                      0  \n",
       "3                             0                      1  \n",
       "4                             1                      0  \n",
       "5                             0                      0  \n",
       "6                             1                      0  \n",
       "7                             1                      0  \n",
       "8                             0                      0  \n",
       "9                             0                      0  \n",
       "10                            1                      0  \n",
       "11                            0                      1  \n",
       "12                            0                      1  \n",
       "13                            0                      0  \n",
       "14                            1                      0  \n",
       "15                            1                      0  \n",
       "16                            0                      1  \n",
       "17                            0                      1  \n",
       "18                            1                      0  \n",
       "19                            0                      0  \n",
       "\n",
       "[20 rows x 21 columns]"
      ]
     },
     "execution_count": 23,
     "metadata": {},
     "output_type": "execute_result"
    }
   ],
   "source": [
    "stroke_data.head(20)"
   ]
  },
  {
   "cell_type": "code",
   "execution_count": 24,
   "id": "4c3e1a6b",
   "metadata": {},
   "outputs": [
    {
     "name": "stdout",
     "output_type": "stream",
     "text": [
      "(5109, 21)\n"
     ]
    }
   ],
   "source": [
    "# Dataframe shape after encoding\n",
    "print(stroke_data.shape)"
   ]
  },
  {
   "cell_type": "code",
   "execution_count": 25,
   "id": "07563c59",
   "metadata": {},
   "outputs": [
    {
     "data": {
      "text/plain": [
       "age                                 0\n",
       "hypertension                        0\n",
       "heart_disease                       0\n",
       "avg_glucose_level                   0\n",
       "bmi                               201\n",
       "stroke                              0\n",
       "gender_Female                       0\n",
       "gender_Male                         0\n",
       "ever_married_No                     0\n",
       "ever_married_Yes                    0\n",
       "work_type_Govt_job                  0\n",
       "work_type_Never_worked              0\n",
       "work_type_Private                   0\n",
       "work_type_Self-employed             0\n",
       "work_type_children                  0\n",
       "Residence_type_Rural                0\n",
       "Residence_type_Urban                0\n",
       "smoking_status_Unknown              0\n",
       "smoking_status_formerly smoked      0\n",
       "smoking_status_never smoked         0\n",
       "smoking_status_smokes               0\n",
       "dtype: int64"
      ]
     },
     "execution_count": 25,
     "metadata": {},
     "output_type": "execute_result"
    }
   ],
   "source": [
    "# Checking for missing values\n",
    "stroke_data.isnull().sum()"
   ]
  },
  {
   "cell_type": "code",
   "execution_count": 26,
   "id": "e779103d",
   "metadata": {},
   "outputs": [],
   "source": [
    "# Handling missing values\n",
    "stroke_data.fillna(method = 'bfill', inplace = True)"
   ]
  },
  {
   "cell_type": "code",
   "execution_count": 27,
   "id": "e0abdbed",
   "metadata": {},
   "outputs": [
    {
     "data": {
      "text/plain": [
       "age                               0\n",
       "hypertension                      0\n",
       "heart_disease                     0\n",
       "avg_glucose_level                 0\n",
       "bmi                               0\n",
       "stroke                            0\n",
       "gender_Female                     0\n",
       "gender_Male                       0\n",
       "ever_married_No                   0\n",
       "ever_married_Yes                  0\n",
       "work_type_Govt_job                0\n",
       "work_type_Never_worked            0\n",
       "work_type_Private                 0\n",
       "work_type_Self-employed           0\n",
       "work_type_children                0\n",
       "Residence_type_Rural              0\n",
       "Residence_type_Urban              0\n",
       "smoking_status_Unknown            0\n",
       "smoking_status_formerly smoked    0\n",
       "smoking_status_never smoked       0\n",
       "smoking_status_smokes             0\n",
       "dtype: int64"
      ]
     },
     "execution_count": 27,
     "metadata": {},
     "output_type": "execute_result"
    }
   ],
   "source": [
    "# Confirming handling of missing values\n",
    "stroke_data.isnull().sum()"
   ]
  },
  {
   "cell_type": "code",
   "execution_count": 28,
   "id": "efad55fd",
   "metadata": {},
   "outputs": [],
   "source": [
    "X = stroke_data.drop(['stroke'], axis = 1)\n",
    "Y = stroke_data['stroke']"
   ]
  },
  {
   "cell_type": "code",
   "execution_count": 29,
   "id": "7bc382c2",
   "metadata": {},
   "outputs": [
    {
     "data": {
      "text/html": [
       "<div>\n",
       "<style scoped>\n",
       "    .dataframe tbody tr th:only-of-type {\n",
       "        vertical-align: middle;\n",
       "    }\n",
       "\n",
       "    .dataframe tbody tr th {\n",
       "        vertical-align: top;\n",
       "    }\n",
       "\n",
       "    .dataframe thead th {\n",
       "        text-align: right;\n",
       "    }\n",
       "</style>\n",
       "<table border=\"1\" class=\"dataframe\">\n",
       "  <thead>\n",
       "    <tr style=\"text-align: right;\">\n",
       "      <th></th>\n",
       "      <th>age</th>\n",
       "      <th>hypertension</th>\n",
       "      <th>heart_disease</th>\n",
       "      <th>avg_glucose_level</th>\n",
       "      <th>bmi</th>\n",
       "      <th>gender_Female</th>\n",
       "      <th>gender_Male</th>\n",
       "      <th>ever_married_No</th>\n",
       "      <th>ever_married_Yes</th>\n",
       "      <th>work_type_Govt_job</th>\n",
       "      <th>work_type_Never_worked</th>\n",
       "      <th>work_type_Private</th>\n",
       "      <th>work_type_Self-employed</th>\n",
       "      <th>work_type_children</th>\n",
       "      <th>Residence_type_Rural</th>\n",
       "      <th>Residence_type_Urban</th>\n",
       "      <th>smoking_status_Unknown</th>\n",
       "      <th>smoking_status_formerly smoked</th>\n",
       "      <th>smoking_status_never smoked</th>\n",
       "      <th>smoking_status_smokes</th>\n",
       "    </tr>\n",
       "  </thead>\n",
       "  <tbody>\n",
       "    <tr>\n",
       "      <th>0</th>\n",
       "      <td>67.0</td>\n",
       "      <td>0</td>\n",
       "      <td>1</td>\n",
       "      <td>228.69</td>\n",
       "      <td>36.6</td>\n",
       "      <td>0</td>\n",
       "      <td>1</td>\n",
       "      <td>0</td>\n",
       "      <td>1</td>\n",
       "      <td>0</td>\n",
       "      <td>0</td>\n",
       "      <td>1</td>\n",
       "      <td>0</td>\n",
       "      <td>0</td>\n",
       "      <td>0</td>\n",
       "      <td>1</td>\n",
       "      <td>0</td>\n",
       "      <td>1</td>\n",
       "      <td>0</td>\n",
       "      <td>0</td>\n",
       "    </tr>\n",
       "    <tr>\n",
       "      <th>1</th>\n",
       "      <td>61.0</td>\n",
       "      <td>0</td>\n",
       "      <td>0</td>\n",
       "      <td>202.21</td>\n",
       "      <td>32.5</td>\n",
       "      <td>1</td>\n",
       "      <td>0</td>\n",
       "      <td>0</td>\n",
       "      <td>1</td>\n",
       "      <td>0</td>\n",
       "      <td>0</td>\n",
       "      <td>0</td>\n",
       "      <td>1</td>\n",
       "      <td>0</td>\n",
       "      <td>1</td>\n",
       "      <td>0</td>\n",
       "      <td>0</td>\n",
       "      <td>0</td>\n",
       "      <td>1</td>\n",
       "      <td>0</td>\n",
       "    </tr>\n",
       "    <tr>\n",
       "      <th>2</th>\n",
       "      <td>80.0</td>\n",
       "      <td>0</td>\n",
       "      <td>1</td>\n",
       "      <td>105.92</td>\n",
       "      <td>32.5</td>\n",
       "      <td>0</td>\n",
       "      <td>1</td>\n",
       "      <td>0</td>\n",
       "      <td>1</td>\n",
       "      <td>0</td>\n",
       "      <td>0</td>\n",
       "      <td>1</td>\n",
       "      <td>0</td>\n",
       "      <td>0</td>\n",
       "      <td>1</td>\n",
       "      <td>0</td>\n",
       "      <td>0</td>\n",
       "      <td>0</td>\n",
       "      <td>1</td>\n",
       "      <td>0</td>\n",
       "    </tr>\n",
       "    <tr>\n",
       "      <th>3</th>\n",
       "      <td>49.0</td>\n",
       "      <td>0</td>\n",
       "      <td>0</td>\n",
       "      <td>171.23</td>\n",
       "      <td>34.4</td>\n",
       "      <td>1</td>\n",
       "      <td>0</td>\n",
       "      <td>0</td>\n",
       "      <td>1</td>\n",
       "      <td>0</td>\n",
       "      <td>0</td>\n",
       "      <td>1</td>\n",
       "      <td>0</td>\n",
       "      <td>0</td>\n",
       "      <td>0</td>\n",
       "      <td>1</td>\n",
       "      <td>0</td>\n",
       "      <td>0</td>\n",
       "      <td>0</td>\n",
       "      <td>1</td>\n",
       "    </tr>\n",
       "    <tr>\n",
       "      <th>4</th>\n",
       "      <td>79.0</td>\n",
       "      <td>1</td>\n",
       "      <td>0</td>\n",
       "      <td>174.12</td>\n",
       "      <td>24.0</td>\n",
       "      <td>1</td>\n",
       "      <td>0</td>\n",
       "      <td>0</td>\n",
       "      <td>1</td>\n",
       "      <td>0</td>\n",
       "      <td>0</td>\n",
       "      <td>0</td>\n",
       "      <td>1</td>\n",
       "      <td>0</td>\n",
       "      <td>1</td>\n",
       "      <td>0</td>\n",
       "      <td>0</td>\n",
       "      <td>0</td>\n",
       "      <td>1</td>\n",
       "      <td>0</td>\n",
       "    </tr>\n",
       "  </tbody>\n",
       "</table>\n",
       "</div>"
      ],
      "text/plain": [
       "    age  hypertension  heart_disease  avg_glucose_level   bmi  gender_Female  \\\n",
       "0  67.0             0              1             228.69  36.6              0   \n",
       "1  61.0             0              0             202.21  32.5              1   \n",
       "2  80.0             0              1             105.92  32.5              0   \n",
       "3  49.0             0              0             171.23  34.4              1   \n",
       "4  79.0             1              0             174.12  24.0              1   \n",
       "\n",
       "   gender_Male  ever_married_No  ever_married_Yes  work_type_Govt_job  \\\n",
       "0            1                0                 1                   0   \n",
       "1            0                0                 1                   0   \n",
       "2            1                0                 1                   0   \n",
       "3            0                0                 1                   0   \n",
       "4            0                0                 1                   0   \n",
       "\n",
       "   work_type_Never_worked  work_type_Private  work_type_Self-employed  \\\n",
       "0                       0                  1                        0   \n",
       "1                       0                  0                        1   \n",
       "2                       0                  1                        0   \n",
       "3                       0                  1                        0   \n",
       "4                       0                  0                        1   \n",
       "\n",
       "   work_type_children  Residence_type_Rural  Residence_type_Urban  \\\n",
       "0                   0                     0                     1   \n",
       "1                   0                     1                     0   \n",
       "2                   0                     1                     0   \n",
       "3                   0                     0                     1   \n",
       "4                   0                     1                     0   \n",
       "\n",
       "   smoking_status_Unknown  smoking_status_formerly smoked  \\\n",
       "0                       0                               1   \n",
       "1                       0                               0   \n",
       "2                       0                               0   \n",
       "3                       0                               0   \n",
       "4                       0                               0   \n",
       "\n",
       "   smoking_status_never smoked  smoking_status_smokes  \n",
       "0                            0                      0  \n",
       "1                            1                      0  \n",
       "2                            1                      0  \n",
       "3                            0                      1  \n",
       "4                            1                      0  "
      ]
     },
     "execution_count": 29,
     "metadata": {},
     "output_type": "execute_result"
    }
   ],
   "source": [
    "X.head(5)"
   ]
  },
  {
   "cell_type": "code",
   "execution_count": 30,
   "id": "384fa9ef",
   "metadata": {},
   "outputs": [],
   "source": [
    "x_train, x_test, y_train, y_test = train_test_split(X, Y, test_size = 0.15)"
   ]
  },
  {
   "cell_type": "code",
   "execution_count": 31,
   "id": "7f06f976",
   "metadata": {},
   "outputs": [],
   "source": [
    "scaler = StandardScaler()\n",
    "x_train = scaler.fit_transform(x_train)"
   ]
  },
  {
   "cell_type": "code",
   "execution_count": 32,
   "id": "321e85fa",
   "metadata": {},
   "outputs": [],
   "source": [
    "lr = LogisticRegression(class_weight = 'balanced', solver = 'liblinear', max_iter = 300, dual = True, random_state = 42)\n",
    "lsvc = LinearSVC(class_weight = 'balanced', dual = False)\n",
    "svc = SVC(class_weight = 'balanced', kernel = 'poly')\n",
    "dtc = DecisionTreeClassifier(max_depth = 8, class_weight = 'balanced')\n",
    "etc = ExtraTreeClassifier(max_depth = 8, class_weight = 'balanced')\n",
    "rfc = RandomForestClassifier(n_estimators = 300, max_depth = 8)"
   ]
  },
  {
   "cell_type": "markdown",
   "id": "aaedbf48",
   "metadata": {},
   "source": [
    "### Fitting models on imbalanced data"
   ]
  },
  {
   "cell_type": "code",
   "execution_count": 33,
   "id": "07d0709a",
   "metadata": {},
   "outputs": [
    {
     "name": "stderr",
     "output_type": "stream",
     "text": [
      "/Users/onyekachukwuokonji/opt/anaconda3/lib/python3.9/site-packages/sklearn/svm/_base.py:1206: ConvergenceWarning: Liblinear failed to converge, increase the number of iterations.\n",
      "  warnings.warn(\n"
     ]
    },
    {
     "name": "stdout",
     "output_type": "stream",
     "text": [
      "fitting logistic regression classiifier : LogisticRegression(class_weight='balanced', dual=True, max_iter=300,\n",
      "                   random_state=42, solver='liblinear')\n",
      "fitting linear svc classifier : LinearSVC(class_weight='balanced', dual=False)\n",
      "fitting svc kernel classifier : SVC(class_weight='balanced', kernel='poly')\n",
      "fitting decision tree classifier : DecisionTreeClassifier(class_weight='balanced', max_depth=8)\n",
      "fitting extra tree classifier : ExtraTreeClassifier(class_weight='balanced', max_depth=8)\n",
      "fitting random forest classifier : RandomForestClassifier(max_depth=8, n_estimators=300)\n"
     ]
    }
   ],
   "source": [
    "print(f\"fitting logistic regression classiifier : {lr.fit(x_train,y_train)}\")\n",
    "print(f\"fitting linear svc classifier : {lsvc.fit(x_train, y_train)}\")\n",
    "print(f\"fitting svc kernel classifier : {svc.fit(x_train, y_train)}\")\n",
    "print(f\"fitting decision tree classifier : {dtc.fit(x_train, y_train)}\")\n",
    "print(f\"fitting extra tree classifier : {etc.fit(x_train, y_train)}\")\n",
    "print(f\"fitting random forest classifier : {rfc.fit(x_train, y_train)}\")"
   ]
  },
  {
   "cell_type": "code",
   "execution_count": 34,
   "id": "e99120fb",
   "metadata": {},
   "outputs": [
    {
     "name": "stdout",
     "output_type": "stream",
     "text": [
      "f1_score : 0.09203980099502489\n"
     ]
    },
    {
     "name": "stderr",
     "output_type": "stream",
     "text": [
      "/Users/onyekachukwuokonji/opt/anaconda3/lib/python3.9/site-packages/sklearn/base.py:443: UserWarning: X has feature names, but LogisticRegression was fitted without feature names\n",
      "  warnings.warn(\n"
     ]
    },
    {
     "data": {
      "image/png": "[encoded data removed]",
      "text/plain": [
       "<Figure size 432x288 with 2 Axes>"
      ]
     },
     "metadata": {
      "needs_background": "light"
     },
     "output_type": "display_data"
    }
   ],
   "source": [
    "y_pred = lr.predict(x_test)\n",
    "from sklearn.metrics import confusion_matrix, ConfusionMatrixDisplay, f1_score\n",
    "cm = confusion_matrix(y_test, y_pred)\n",
    "print(f\"f1_score : {f1_score(y_test, y_pred)}\")\n",
    "disp = ConfusionMatrixDisplay(confusion_matrix = cm)\n",
    "disp.plot()\n",
    "plt.show()"
   ]
  },
  {
   "cell_type": "code",
   "execution_count": 35,
   "id": "bce5e4d9",
   "metadata": {},
   "outputs": [
    {
     "name": "stdout",
     "output_type": "stream",
     "text": [
      "f1_score : 0.09203980099502489\n"
     ]
    },
    {
     "name": "stderr",
     "output_type": "stream",
     "text": [
      "/Users/onyekachukwuokonji/opt/anaconda3/lib/python3.9/site-packages/sklearn/base.py:443: UserWarning: X has feature names, but LinearSVC was fitted without feature names\n",
      "  warnings.warn(\n"
     ]
    },
    {
     "data": {
      "image/png": "[encoded data removed]",
      "text/plain": [
       "<Figure size 432x288 with 2 Axes>"
      ]
     },
     "metadata": {
      "needs_background": "light"
     },
     "output_type": "display_data"
    }
   ],
   "source": [
    "y_pred = lsvc.predict(x_test)\n",
    "print(f\"f1_score : {f1_score(y_test, y_pred)}\")\n",
    "cm = confusion_matrix(y_test, y_pred, labels = [1, 0])\n",
    "disp = ConfusionMatrixDisplay(confusion_matrix = cm, display_labels = [1, 0])\n",
    "disp.plot()\n",
    "plt.show()"
   ]
  },
  {
   "cell_type": "code",
   "execution_count": 36,
   "id": "116c9188",
   "metadata": {},
   "outputs": [
    {
     "name": "stdout",
     "output_type": "stream",
     "text": [
      "f1_score : 0.14342629482071714\n"
     ]
    },
    {
     "name": "stderr",
     "output_type": "stream",
     "text": [
      "/Users/onyekachukwuokonji/opt/anaconda3/lib/python3.9/site-packages/sklearn/base.py:443: UserWarning: X has feature names, but SVC was fitted without feature names\n",
      "  warnings.warn(\n"
     ]
    },
    {
     "data": {
      "image/png": "[encoded data removed]",
      "text/plain": [
       "<Figure size 432x288 with 2 Axes>"
      ]
     },
     "metadata": {
      "needs_background": "light"
     },
     "output_type": "display_data"
    }
   ],
   "source": [
    "y_pred = svc.predict(x_test)\n",
    "print(f\"f1_score : {f1_score(y_test, y_pred)}\")\n",
    "cm = confusion_matrix(y_test, y_pred, labels = [1, 0])\n",
    "disp = ConfusionMatrixDisplay(confusion_matrix = cm, display_labels = [1, 0])\n",
    "disp.plot()\n",
    "plt.show()"
   ]
  },
  {
   "cell_type": "code",
   "execution_count": 37,
   "id": "015f41bf",
   "metadata": {},
   "outputs": [
    {
     "name": "stderr",
     "output_type": "stream",
     "text": [
      "/Users/onyekachukwuokonji/opt/anaconda3/lib/python3.9/site-packages/sklearn/base.py:443: UserWarning: X has feature names, but DecisionTreeClassifier was fitted without feature names\n",
      "  warnings.warn(\n"
     ]
    },
    {
     "name": "stdout",
     "output_type": "stream",
     "text": [
      "f1_score : 0.0\n"
     ]
    },
    {
     "data": {
      "image/png": "[encoded data removed]",
      "text/plain": [
       "<Figure size 432x288 with 2 Axes>"
      ]
     },
     "metadata": {
      "needs_background": "light"
     },
     "output_type": "display_data"
    }
   ],
   "source": [
    "y_pred = dtc.predict(x_test)\n",
    "print(f\"f1_score : {f1_score(y_test, y_pred)}\")\n",
    "cm = confusion_matrix(y_test, y_pred, labels = [1, 0])\n",
    "disp = ConfusionMatrixDisplay(confusion_matrix = cm, display_labels = [1, 0])\n",
    "disp.plot()\n",
    "plt.show()"
   ]
  },
  {
   "cell_type": "code",
   "execution_count": 38,
   "id": "c3bc4ca9",
   "metadata": {},
   "outputs": [
    {
     "name": "stderr",
     "output_type": "stream",
     "text": [
      "/Users/onyekachukwuokonji/opt/anaconda3/lib/python3.9/site-packages/sklearn/base.py:443: UserWarning: X has feature names, but ExtraTreeClassifier was fitted without feature names\n",
      "  warnings.warn(\n"
     ]
    },
    {
     "name": "stdout",
     "output_type": "stream",
     "text": [
      "f1_score : 0.09285714285714287\n"
     ]
    },
    {
     "data": {
      "image/png": "[encoded data removed]",
      "text/plain": [
       "<Figure size 432x288 with 2 Axes>"
      ]
     },
     "metadata": {
      "needs_background": "light"
     },
     "output_type": "display_data"
    }
   ],
   "source": [
    "y_pred = etc.predict(x_test)\n",
    "print(f\"f1_score : {f1_score(y_test, y_pred)}\")\n",
    "cm = confusion_matrix(y_test, y_pred, labels = [1, 0])\n",
    "disp = ConfusionMatrixDisplay(confusion_matrix = cm, display_labels = [1, 0])\n",
    "disp.plot()\n",
    "plt.show()"
   ]
  },
  {
   "cell_type": "markdown",
   "id": "0eb356ef",
   "metadata": {},
   "source": [
    "### Resampling the dataset and fitting"
   ]
  },
  {
   "cell_type": "code",
   "execution_count": 39,
   "id": "0a948953",
   "metadata": {},
   "outputs": [],
   "source": [
    "# pip install -U imbalanced-learn"
   ]
  },
  {
   "cell_type": "code",
   "execution_count": 40,
   "id": "b7208422",
   "metadata": {},
   "outputs": [],
   "source": [
    "x_tr = scaler.fit_transform(X)"
   ]
  },
  {
   "cell_type": "code",
   "execution_count": 41,
   "id": "f1cabd9f",
   "metadata": {},
   "outputs": [],
   "source": [
    "from imblearn.over_sampling import SMOTE\n",
    "sm = SMOTE(random_state = 42)\n",
    "x_tr_adj, y_tr_adj = sm.fit_resample(x_tr, Y)"
   ]
  },
  {
   "cell_type": "code",
   "execution_count": 47,
   "id": "ae7c84b3",
   "metadata": {},
   "outputs": [
    {
     "name": "stdout",
     "output_type": "stream",
     "text": [
      "--------------------- Fitting Logistic Regression ----------------------\n",
      "fold 1 f1_score : 0.7954767011113278\n",
      "--------------------- Fitting Logistic Regression ----------------------\n",
      "fold 1 f1_score : 0.8026107594936709\n",
      "-------------------- Mean F1-SCORE ------------------------\n",
      "0.7990437303024993\n"
     ]
    }
   ],
   "source": [
    "total_f1 = []\n",
    "\n",
    "fold = StratifiedKFold(n_splits = 2)\n",
    "i = 1\n",
    "for train_index, test_index in fold.split(x_tr_adj, y_tr_adj):\n",
    "    X_TRAIN, X_TEST = x_tr_adj[train_index], x_tr_adj[test_index]\n",
    "    Y_TRAIN, Y_TEST = y_tr_adj[train_index], y_tr_adj[test_index]\n",
    "    \n",
    "    lr.fit(X_TRAIN, Y_TRAIN)\n",
    "    \n",
    "    Y_PRED = lr.predict(X_TEST)\n",
    "    \n",
    "    print(f\"--------------------- Fitting Logistic Regression ----------------------\")\n",
    "    \n",
    "    print(f\"fold {i} f1_score : {f1_score(Y_TEST, Y_PRED)}\")\n",
    "    \n",
    "    i + 1\n",
    "    \n",
    "    total_f1.append(f1_score(Y_TEST, Y_PRED))\n",
    "\n",
    "print(f\"-------------------- Mean F1-SCORE ------------------------\")\n",
    "print(np.mean(total_f1))"
   ]
  },
  {
   "cell_type": "code",
   "execution_count": 49,
   "id": "32f79545",
   "metadata": {},
   "outputs": [
    {
     "name": "stdout",
     "output_type": "stream",
     "text": [
      "--------------------------- Fitting Linear SVC --------------------------\n",
      "fold 1 f1_score : 0.8010794140323826\n",
      "--------------------------- Fitting Linear SVC --------------------------\n",
      "fold 1 f1_score : 0.8055609947131388\n",
      "-------------------- Mean F1-SCORE ------------------------\n",
      "0.8033202043727607\n"
     ]
    }
   ],
   "source": [
    "total_f1 = []\n",
    "\n",
    "fold = StratifiedKFold(n_splits = 2)\n",
    "i = 1\n",
    "for train_index, test_index in fold.split(x_tr_adj, y_tr_adj):\n",
    "    X_TRAIN, X_TEST = x_tr_adj[train_index], x_tr_adj[test_index]\n",
    "    Y_TRAIN, Y_TEST = y_tr_adj[train_index], y_tr_adj[test_index]\n",
    "    \n",
    "    lsvc.fit(X_TRAIN, Y_TRAIN)\n",
    "    \n",
    "    Y_PRED = lsvc.predict(X_TEST)\n",
    "    \n",
    "    print(f\"--------------------------- Fitting Linear SVC --------------------------\")\n",
    "    \n",
    "    print(f\"fold {i} f1_score : {f1_score(Y_TEST, Y_PRED)}\")\n",
    "    \n",
    "    i + 1\n",
    "    \n",
    "    total_f1.append(f1_score(Y_TEST, Y_PRED))\n",
    "    \n",
    "print(f\"-------------------- Mean F1-SCORE ------------------------\")\n",
    "print(np.mean(total_f1))"
   ]
  },
  {
   "cell_type": "code",
   "execution_count": 50,
   "id": "bcb8afe5",
   "metadata": {},
   "outputs": [
    {
     "name": "stdout",
     "output_type": "stream",
     "text": [
      "-------------------------- Fitting SVC Kernel --------------------------\n",
      "fold 1 f1_score : 0.8433081541739299\n",
      "-------------------------- Fitting SVC Kernel --------------------------\n",
      "fold 1 f1_score : 0.8473642800944138\n",
      "-------------------- Mean F1-SCORE ------------------------\n",
      "0.8453362171341718\n"
     ]
    }
   ],
   "source": [
    "total_f1 = []\n",
    "\n",
    "fold = StratifiedKFold(n_splits = 2)\n",
    "i = 1\n",
    "for train_index, test_index in fold.split(x_tr_adj, y_tr_adj):\n",
    "    X_TRAIN, X_TEST = x_tr_adj[train_index], x_tr_adj[test_index]\n",
    "    Y_TRAIN, Y_TEST = y_tr_adj[train_index], y_tr_adj[test_index]\n",
    "    \n",
    "    svc.fit(X_TRAIN, Y_TRAIN)\n",
    "    \n",
    "    Y_PRED = svc.predict(X_TEST)\n",
    "    \n",
    "    print(f\"-------------------------- Fitting SVC Kernel --------------------------\")\n",
    "    \n",
    "    print(f\"fold {i} f1_score : {f1_score(Y_TEST, Y_PRED)}\")\n",
    "    \n",
    "    i + 1\n",
    "    \n",
    "    total_f1.append(f1_score(Y_TEST, Y_PRED))\n",
    "    \n",
    "print(f\"-------------------- Mean F1-SCORE ------------------------\")\n",
    "print(np.mean(total_f1))"
   ]
  },
  {
   "cell_type": "code",
   "execution_count": 51,
   "id": "0c282005",
   "metadata": {},
   "outputs": [
    {
     "name": "stdout",
     "output_type": "stream",
     "text": [
      "------------------------ Fitting Decision Tree Classifier ---------------------------\n",
      "fold 1 f1_score : 0.8435296359824662\n",
      "------------------------ Fitting Decision Tree Classifier ---------------------------\n",
      "fold 1 f1_score : 0.8523386161577117\n",
      "-------------------- Mean F1-SCORE ------------------------\n",
      "0.847934126070089\n"
     ]
    }
   ],
   "source": [
    "total_f1 = []\n",
    "\n",
    "fold = StratifiedKFold(n_splits = 2)\n",
    "i = 1\n",
    "for train_index, test_index in fold.split(x_tr_adj, y_tr_adj):\n",
    "    X_TRAIN, X_TEST = x_tr_adj[train_index], x_tr_adj[test_index]\n",
    "    Y_TRAIN, Y_TEST = y_tr_adj[train_index], y_tr_adj[test_index]\n",
    "    \n",
    "    dtc.fit(X_TRAIN, Y_TRAIN)\n",
    "    \n",
    "    Y_PRED = dtc.predict(X_TEST)\n",
    "    \n",
    "    print(f\"------------------------ Fitting Decision Tree Classifier ---------------------------\")\n",
    "    \n",
    "    print(f\"fold {i} f1_score : {f1_score(Y_TEST, Y_PRED)}\")\n",
    "    \n",
    "    i + 1\n",
    "    \n",
    "    total_f1.append(f1_score(Y_TEST, Y_PRED))\n",
    "\n",
    "\n",
    "print(f\"-------------------- Mean F1-SCORE ------------------------\")\n",
    "print(np.mean(total_f1))"
   ]
  },
  {
   "cell_type": "code",
   "execution_count": 52,
   "id": "0478c41e",
   "metadata": {},
   "outputs": [
    {
     "name": "stdout",
     "output_type": "stream",
     "text": [
      "------------------------- Fitting Extra Trees Classifier -----------------------\n",
      "fold 1 f1_score : 0.7020585048754062\n",
      "------------------------- Fitting Extra Trees Classifier -----------------------\n",
      "fold 1 f1_score : 0.7520708919283375\n",
      "-------------------- Mean F1-SCORE ------------------------\n",
      "0.7270646984018718\n"
     ]
    }
   ],
   "source": [
    "total_f1 = []\n",
    "\n",
    "fold = StratifiedKFold(n_splits = 2)\n",
    "i = 1\n",
    "for train_index, test_index in fold.split(x_tr_adj, y_tr_adj):\n",
    "    X_TRAIN, X_TEST = x_tr_adj[train_index], x_tr_adj[test_index]\n",
    "    Y_TRAIN, Y_TEST = y_tr_adj[train_index], y_tr_adj[test_index]\n",
    "    \n",
    "    etc.fit(X_TRAIN, Y_TRAIN)\n",
    "    \n",
    "    Y_PRED = etc.predict(X_TEST)\n",
    "    \n",
    "    print(f\"------------------------- Fitting Extra Trees Classifier -----------------------\")\n",
    "    \n",
    "    print(f\"fold {i} f1_score : {f1_score(Y_TEST, Y_PRED)}\")\n",
    "    \n",
    "    i + 1\n",
    "    \n",
    "    total_f1.append(f1_score(Y_TEST, Y_PRED))\n",
    "\n",
    "print(f\"-------------------- Mean F1-SCORE ------------------------\")\n",
    "print(np.mean(total_f1))"
   ]
  },
  {
   "cell_type": "code",
   "execution_count": 53,
   "id": "6eaa4dd9",
   "metadata": {},
   "outputs": [
    {
     "name": "stdout",
     "output_type": "stream",
     "text": [
      "-------------------------- Fitting Random Forest Classifier ----------------------- \n",
      "fold 1 f1_score : 0.8569769692277918\n",
      "-------------------------- Fitting Random Forest Classifier ----------------------- \n",
      "fold 1 f1_score : 0.857087975412985\n",
      "-------------------- Mean F1-SCORE ------------------------\n",
      "0.8570324723203884\n"
     ]
    }
   ],
   "source": [
    "total_f1 = []\n",
    "\n",
    "fold = StratifiedKFold(n_splits = 2)\n",
    "i = 1\n",
    "for train_index, test_index in fold.split(x_tr_adj, y_tr_adj):\n",
    "    X_TRAIN, X_TEST = x_tr_adj[train_index], x_tr_adj[test_index]\n",
    "    Y_TRAIN, Y_TEST = y_tr_adj[train_index], y_tr_adj[test_index]\n",
    "    \n",
    "    rfc.fit(X_TRAIN, Y_TRAIN)\n",
    "    \n",
    "    Y_PRED = rfc.predict(X_TEST)\n",
    "    \n",
    "    print(f\"-------------------------- Fitting Random Forest Classifier ----------------------- \")\n",
    "    \n",
    "    print(f\"fold {i} f1_score : {f1_score(Y_TEST, Y_PRED)}\")\n",
    "    \n",
    "    i + 1\n",
    "    \n",
    "    total_f1.append(f1_score(Y_TEST, Y_PRED))\n",
    "\n",
    "print(f\"-------------------- Mean F1-SCORE ------------------------\")\n",
    "print(np.mean(total_f1))"
   ]
  },
  {
   "cell_type": "markdown",
   "id": "55b8afd7",
   "metadata": {},
   "source": [
    "### In conclusion, Random Forest Classifier produced the best f1-score"
   ]
  },
  {
   "cell_type": "code",
   "execution_count": null,
   "id": "5317140e",
   "metadata": {},
   "outputs": [],
   "source": []
  }
 ],
 "metadata": {
  "kernelspec": {
   "display_name": "Python 3 (ipykernel)",
   "language": "python",
   "name": "python3"
  },
  "language_info": {
   "codemirror_mode": {
    "name": "ipython",
    "version": 3
   },
   "file_extension": ".py",
   "mimetype": "text/x-python",
   "name": "python",
   "nbconvert_exporter": "python",
   "pygments_lexer": "ipython3",
   "version": "3.9.7"
  }
 },
 "nbformat": 4,
 "nbformat_minor": 5
}
